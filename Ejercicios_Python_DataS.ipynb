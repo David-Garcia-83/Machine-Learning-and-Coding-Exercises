{
 "cells": [
  {
   "cell_type": "markdown",
   "metadata": {
    "id": "tYn8_8yugiMY"
   },
   "source": [
    "# BIG DATA / DATA SCIENCE\n",
    "\n",
    "## Seminario: Ejercicios resueltos en Python\n",
    "\n",
    "### Ejercicio 1 - Cadenas de texto\n",
    "\n",
    "Dada la siguiente frase:\n"
   ]
  },
  {
   "cell_type": "code",
   "execution_count": 1,
   "metadata": {
    "id": "CCX59IOxgiMb"
   },
   "outputs": [],
   "source": [
    "conjunto_frases = \"frase uno, frase dos, frase tres, frase cuatro   \""
   ]
  },
  {
   "cell_type": "markdown",
   "metadata": {
    "id": "CLEU2pX-giMd"
   },
   "source": [
    "Obtén un subconjunto de la frase que en la que se hayan borrado los espacios del final, se muestre la primera letra con mayúscula, en lugar de 'frase' que aparezca 'mensaje' y además, separar las frases en sub-cadenas a través de las comas."
   ]
  },
  {
   "cell_type": "markdown",
   "metadata": {
    "id": "rDmlGhDwgiMe"
   },
   "source": [
    "#### Solución"
   ]
  },
  {
   "cell_type": "code",
   "execution_count": 10,
   "metadata": {
    "id": "mpObFLKsgiMf"
   },
   "outputs": [
    {
     "data": {
      "text/plain": [
       "['Mensaje uno', ' mensaje dos', ' mensaje tres', ' mensaje cuatro']"
      ]
     },
     "execution_count": 10,
     "metadata": {},
     "output_type": "execute_result"
    }
   ],
   "source": [
    "clean_sentence = conjunto_frases.strip().replace(\"frase\", \"mensaje\").capitalize().split(\",\")\n",
    "\n",
    "clean_sentence"
   ]
  },
  {
   "cell_type": "markdown",
   "metadata": {
    "id": "qvTuH41VgiMf"
   },
   "source": [
    "### Ejercicio 2 - Cadenas de texto, condicionales\n",
    "\n",
    "Escribir un programa que teniendo en cuenta una contraseña ya almacenada, solicite al usuario que ingrese una contraseña, en caso de ser iguales, le daremos la bienvenida, en caso contrario mostraremos un mensaje de contraseña incorrecta.\n",
    "\n",
    "NOTA: Es importante que estandaricemos las cadenas de texto a minúsculas.\n",
    "\n",
    "#### Solución"
   ]
  },
  {
   "cell_type": "code",
   "execution_count": 20,
   "metadata": {
    "id": "k1DyeL5TgiMg"
   },
   "outputs": [
    {
     "name": "stdout",
     "output_type": "stream",
     "text": [
      "Por favor, ingrese contraseña: \n",
      "pepe\n",
      "pepe\n",
      "Bienvenido!\n",
      "pepe -  pepe \n"
     ]
    }
   ],
   "source": [
    "password = \" PEPE \"\n",
    "\n",
    "contraseña_solicitada = input(\"Por favor, ingrese contraseña: \\n\")\n",
    "\n",
    "print(contraseña_solicitada)\n",
    "\n",
    "if contraseña_solicitada.lower().strip() == password.lower().strip():\n",
    "    print(\"Bienvenido!\")\n",
    "    print(contraseña_solicitada.lower() + \" - \" + password.lower())\n",
    "else:\n",
    "    print(contraseña_solicitada.lower() + \" - \" + password.lower())\n",
    "    print(\"Contraseña Incorrecta\")"
   ]
  },
  {
   "cell_type": "code",
   "execution_count": 17,
   "metadata": {},
   "outputs": [
    {
     "data": {
      "text/plain": [
       "'pepe'"
      ]
     },
     "execution_count": 17,
     "metadata": {},
     "output_type": "execute_result"
    }
   ],
   "source": [
    "\"Pepe\".lower()"
   ]
  },
  {
   "cell_type": "markdown",
   "metadata": {
    "id": "F6PpnYJtgiMg"
   },
   "source": [
    "### Ejercicio 3 - Condicionales\n",
    "\n",
    "tomar como referencia los siguientes tramos impositivos en la campaña de la renta:\n",
    "\n",
    "|         Renta          | Tipo impositivo |\n",
    "| :--------------------: | :-------------: |\n",
    "|    Menos de 10000€     |       5%        |\n",
    "| Entre 10000€ y 20000€  |       15%       |\n",
    "| Entre 20000€ y 35000€ |       20%       |\n",
    "| Entre 35000€ y 60000€ |       30%       |\n",
    "|     Más de 60000€      |       45%       |\n",
    "\n",
    "Escribir un programa que pregunte al usuario su renta anual y muestre por pantalla el tipo impositivo que le corresponde.\n",
    "\n",
    "#### Solución"
   ]
  },
  {
   "cell_type": "code",
   "execution_count": 35,
   "metadata": {},
   "outputs": [
    {
     "name": "stdout",
     "output_type": "stream",
     "text": [
      "¿Cuál es su renta anual? 100000\n",
      "Tipo impositivo = 45 %  45000.0\n",
      "Neto:  55000.0\n"
     ]
    }
   ],
   "source": [
    "renta = int(input(\"¿Cuál es su renta anual? \"))\n",
    "\n",
    "if int(renta) < 10000:\n",
    "    print(\"Tipo impositivo = 5 % \", renta * 0.05)\n",
    "    print(\"Neto: \", renta - (renta *0.05))\n",
    "    \n",
    "elif renta >= 10000 and renta < 20000:\n",
    "    print(\"Tipo impositivo = 15 % \", renta * 0.15)\n",
    "    print(\"Neto: \", renta - (renta * 0.15))\n",
    "    \n",
    "elif renta >= 20000 and renta < 35000:\n",
    "    print(\"Tipo impositivo = 20 % \", renta * 0.20)\n",
    "    print(\"Neto: \", renta - (renta * 0.20))\n",
    "    \n",
    "elif renta >= 35000 and renta < 60000:\n",
    "    print(\"Tipo impositivo = 30 % \", renta * 0.30)\n",
    "    print(\"Neto: \", renta - (renta * 0.30))\n",
    "    \n",
    "else:\n",
    "    print(\"Tipo impositivo = 45 % \", renta * 0.45)\n",
    "    print(\"Neto: \", renta - (renta * 0.45))\n"
   ]
  },
  {
   "cell_type": "markdown",
   "metadata": {
    "id": "mHGnKYDigiMj"
   },
   "source": [
    "### Ejercicio 4 - Estructuras de datos\n",
    "\n",
    "Escribe un programa que solicite al usuario una frase, después, genere un diccionario de datos en el que los campos clave sean las palabras y, los campos valor el número de veces que aparece dicha palabra en la frase\n",
    "\n",
    "#### Solución"
   ]
  },
  {
   "cell_type": "code",
   "execution_count": 36,
   "metadata": {
    "id": "_560GxiNgiMk"
   },
   "outputs": [
    {
     "name": "stdout",
     "output_type": "stream",
     "text": [
      "Introduce una frase: bueno bueno bueno pero que me que  me que me dices\n"
     ]
    }
   ],
   "source": [
    "frase = input(\"Introduce una frase: \")"
   ]
  },
  {
   "cell_type": "code",
   "execution_count": 37,
   "metadata": {},
   "outputs": [
    {
     "data": {
      "text/plain": [
       "['bueno',\n",
       " 'bueno',\n",
       " 'bueno',\n",
       " 'pero',\n",
       " 'que',\n",
       " 'me',\n",
       " 'que',\n",
       " 'me',\n",
       " 'que',\n",
       " 'me',\n",
       " 'dices']"
      ]
     },
     "execution_count": 37,
     "metadata": {},
     "output_type": "execute_result"
    }
   ],
   "source": [
    "frase.split()"
   ]
  },
  {
   "cell_type": "code",
   "execution_count": 38,
   "metadata": {},
   "outputs": [
    {
     "data": {
      "text/plain": [
       "3"
      ]
     },
     "execution_count": 38,
     "metadata": {},
     "output_type": "execute_result"
    }
   ],
   "source": [
    "frase.count(\"bueno\")"
   ]
  },
  {
   "cell_type": "code",
   "execution_count": 57,
   "metadata": {},
   "outputs": [
    {
     "data": {
      "text/plain": [
       "{'pepe': 'capullo'}"
      ]
     },
     "execution_count": 57,
     "metadata": {},
     "output_type": "execute_result"
    }
   ],
   "source": [
    "newdict = {}\n",
    "\n",
    "newdict[\"pepe\"] = \"capullo\"\n",
    "\n",
    "newdict"
   ]
  },
  {
   "cell_type": "code",
   "execution_count": 40,
   "metadata": {},
   "outputs": [],
   "source": [
    "my_dict = {}"
   ]
  },
  {
   "cell_type": "code",
   "execution_count": 59,
   "metadata": {},
   "outputs": [
    {
     "name": "stdout",
     "output_type": "stream",
     "text": [
      "bueno\n",
      "bueno\n",
      "bueno\n",
      "pero\n",
      "que\n",
      "me\n",
      "que\n",
      "\n",
      "me\n",
      "que\n",
      "me\n",
      "dices\n"
     ]
    },
    {
     "data": {
      "text/plain": [
       "{'bueno': 3, 'pero': 1, 'que': 3, 'me': 3, '': 51, 'dices': 1}"
      ]
     },
     "execution_count": 59,
     "metadata": {},
     "output_type": "execute_result"
    }
   ],
   "source": [
    "for item in frase.split(\" \"):\n",
    "    print(item)\n",
    "    if item not in my_dict.keys():\n",
    "        my_dict[item] = frase.count(item)\n",
    "    else:\n",
    "        pass # No hacer nada\n",
    "\n",
    "my_dict"
   ]
  },
  {
   "cell_type": "markdown",
   "metadata": {
    "id": "V6aD_NfxgiMk"
   },
   "source": [
    "### Ejercicio 5 - Pandas\n",
    "\n",
    "Se utilizará una base de datos (en .csv) procedente de la web https://openflights.org/data.html , el dataset contiene la siguiente información:\n",
    "* **AirportID**: Identificador de cada vuelo para un aeropuerto.\n",
    "* **Name**: Nombre del aeropuerto.\n",
    "* **City**: Ciudad en la que se encuentra el aeropuerto.\n",
    "* **Country**: País o territorio en el que se encuentra el aeropuerto.\n",
    "* **IATA**: Código de asociación internacional de transporte aéreo, código del aeorpuerto.\n",
    "* **ICAO**: Código de organización civil internacional, código de aeoropuertto.\n",
    "* **Latitude**: Coordenada del aeropuerto (latitud).\n",
    "* **Longitude**: Coordenada del aeropuerto (longitud).\n",
    "* **Altitude**: Altitud del aeropuerto (en pies).\n",
    "* **Timezone**: Zona horaria.\n",
    "* **DST**: Código referente al continente (Daylight savings time). Europe (E), A (US/CANADA), S (South America), O (Australia), Z (New Zeeland), N (None), U (Unknown).\n",
    "* **Tz**: Zona horaria del aeropuerto. Por ejemplo: (America/Los_Angeles).\n",
    "* **Type**: Tipo de aeropuerto: airport, station, port, unknown.\n",
    "* **Source**: Fuente de datos.\n",
    "\n",
    "Con la información del dataset realizar lo siguiente: \n",
    "* 1 Carga del dataset como dataframe.\n",
    "* 2 Muestra las primeras 10 filas del dataframe.\n",
    "* 3 Obtén un resumen estadístico.\n",
    "* 4 Para este análisis no vamos a emplear las columnas 'AirportID', 'Latitude', 'Longitude' y 'Altitude', elimínalas del dataframe.\n",
    "* 5 Vuelve a obtener un resumen estadístico, ¿de qué forma han cambiado los datos?.\n",
    "* 6 Sobre el resumen estadístico anterior parece que en la columna TZ hay un valor raro \\N, revisa la proporción de los mismos con value_counts.\n",
    "* 7 Vuelve a cargar el dataset de modo que se interpreten correctamente los valores nulos (repite el apartado 4, borra las columnas).\n",
    "* 8 Revisa los valores nulos de todo el dataframe.\n",
    "* 9 Sobrescribe los valores nulos de las columnas IATA e ICAO por el valor 'DESCONOCIDO'\n",
    "* 10 Cambia el tipo de las variables DST y TZ como categórico.\n",
    "* 11 Obtén un resumen estadístico de las variables categóricas.\n",
    "* 12 Agrupa el dataframe por el tipo de aeropuerto, mostrando el conteo de los tipos.\n",
    "* 13 Selecciona el nombre de las ciudades cuyo tipo de aeropuerto sea \"port\"\n",
    "* 14 Muestra todas las filas de los campos nombre del aeropuerto, nombre del país y, nombre de la ciudad, cuyo país sea Spain.\n",
    "* 15 Muestra el nombre del país y del aeropuerto que sean pertenecientes de la ciudad de Madrid y Barcelona. ¿Todos los registros son de España?\n",
    "* 16 Guarda los resultados anteriores en un csv llamado Madrid_Barcelona.csv"
   ]
  },
  {
   "cell_type": "markdown",
   "metadata": {
    "id": "IW2MTF41giMl"
   },
   "source": [
    "* 1 Carga del dataset como dataframe. (clickamos con el segundo boton en el enlace _airports-extended.dat_ y seleccionamos \"guardar contenido del enlace como\", a continuación cambiamos la extensión de dat a csv)"
   ]
  },
  {
   "cell_type": "code",
   "execution_count": 93,
   "metadata": {},
   "outputs": [],
   "source": [
    "import pandas as pd\n",
    "\n",
    "df = pd.read_csv(\"C:/Users/David/Downloads/airports-extended.csv\", header= None)"
   ]
  },
  {
   "cell_type": "code",
   "execution_count": 94,
   "metadata": {},
   "outputs": [],
   "source": [
    "df.columns = [\"AirportID\",\"Name\",\"City\",\"Country\",\"IATA\",\"ICAO\",\"Latitude\",\"Longitude\",\"Altitude\",\"Timezone\",\"DST\",\"Tz\",\"Type\",\"Source\"]"
   ]
  },
  {
   "cell_type": "markdown",
   "metadata": {
    "id": "IW2MTF41giMl"
   },
   "source": [
    "* 2 Muestra las primeras 10 filas del dataframe."
   ]
  },
  {
   "cell_type": "code",
   "execution_count": 95,
   "metadata": {},
   "outputs": [
    {
     "data": {
      "text/html": [
       "<div>\n",
       "<style scoped>\n",
       "    .dataframe tbody tr th:only-of-type {\n",
       "        vertical-align: middle;\n",
       "    }\n",
       "\n",
       "    .dataframe tbody tr th {\n",
       "        vertical-align: top;\n",
       "    }\n",
       "\n",
       "    .dataframe thead th {\n",
       "        text-align: right;\n",
       "    }\n",
       "</style>\n",
       "<table border=\"1\" class=\"dataframe\">\n",
       "  <thead>\n",
       "    <tr style=\"text-align: right;\">\n",
       "      <th></th>\n",
       "      <th>AirportID</th>\n",
       "      <th>Name</th>\n",
       "      <th>City</th>\n",
       "      <th>Country</th>\n",
       "      <th>IATA</th>\n",
       "      <th>ICAO</th>\n",
       "      <th>Latitude</th>\n",
       "      <th>Longitude</th>\n",
       "      <th>Altitude</th>\n",
       "      <th>Timezone</th>\n",
       "      <th>DST</th>\n",
       "      <th>Tz</th>\n",
       "      <th>Type</th>\n",
       "      <th>Source</th>\n",
       "    </tr>\n",
       "  </thead>\n",
       "  <tbody>\n",
       "    <tr>\n",
       "      <th>0</th>\n",
       "      <td>1</td>\n",
       "      <td>Goroka Airport</td>\n",
       "      <td>Goroka</td>\n",
       "      <td>Papua New Guinea</td>\n",
       "      <td>GKA</td>\n",
       "      <td>AYGA</td>\n",
       "      <td>-6.081690</td>\n",
       "      <td>145.391998</td>\n",
       "      <td>5282</td>\n",
       "      <td>10</td>\n",
       "      <td>U</td>\n",
       "      <td>Pacific/Port_Moresby</td>\n",
       "      <td>airport</td>\n",
       "      <td>OurAirports</td>\n",
       "    </tr>\n",
       "    <tr>\n",
       "      <th>1</th>\n",
       "      <td>2</td>\n",
       "      <td>Madang Airport</td>\n",
       "      <td>Madang</td>\n",
       "      <td>Papua New Guinea</td>\n",
       "      <td>MAG</td>\n",
       "      <td>AYMD</td>\n",
       "      <td>-5.207080</td>\n",
       "      <td>145.789001</td>\n",
       "      <td>20</td>\n",
       "      <td>10</td>\n",
       "      <td>U</td>\n",
       "      <td>Pacific/Port_Moresby</td>\n",
       "      <td>airport</td>\n",
       "      <td>OurAirports</td>\n",
       "    </tr>\n",
       "    <tr>\n",
       "      <th>2</th>\n",
       "      <td>3</td>\n",
       "      <td>Mount Hagen Kagamuga Airport</td>\n",
       "      <td>Mount Hagen</td>\n",
       "      <td>Papua New Guinea</td>\n",
       "      <td>HGU</td>\n",
       "      <td>AYMH</td>\n",
       "      <td>-5.826790</td>\n",
       "      <td>144.296005</td>\n",
       "      <td>5388</td>\n",
       "      <td>10</td>\n",
       "      <td>U</td>\n",
       "      <td>Pacific/Port_Moresby</td>\n",
       "      <td>airport</td>\n",
       "      <td>OurAirports</td>\n",
       "    </tr>\n",
       "    <tr>\n",
       "      <th>3</th>\n",
       "      <td>4</td>\n",
       "      <td>Nadzab Airport</td>\n",
       "      <td>Nadzab</td>\n",
       "      <td>Papua New Guinea</td>\n",
       "      <td>LAE</td>\n",
       "      <td>AYNZ</td>\n",
       "      <td>-6.569803</td>\n",
       "      <td>146.725977</td>\n",
       "      <td>239</td>\n",
       "      <td>10</td>\n",
       "      <td>U</td>\n",
       "      <td>Pacific/Port_Moresby</td>\n",
       "      <td>airport</td>\n",
       "      <td>OurAirports</td>\n",
       "    </tr>\n",
       "    <tr>\n",
       "      <th>4</th>\n",
       "      <td>5</td>\n",
       "      <td>Port Moresby Jacksons International Airport</td>\n",
       "      <td>Port Moresby</td>\n",
       "      <td>Papua New Guinea</td>\n",
       "      <td>POM</td>\n",
       "      <td>AYPY</td>\n",
       "      <td>-9.443380</td>\n",
       "      <td>147.220001</td>\n",
       "      <td>146</td>\n",
       "      <td>10</td>\n",
       "      <td>U</td>\n",
       "      <td>Pacific/Port_Moresby</td>\n",
       "      <td>airport</td>\n",
       "      <td>OurAirports</td>\n",
       "    </tr>\n",
       "    <tr>\n",
       "      <th>5</th>\n",
       "      <td>6</td>\n",
       "      <td>Wewak International Airport</td>\n",
       "      <td>Wewak</td>\n",
       "      <td>Papua New Guinea</td>\n",
       "      <td>WWK</td>\n",
       "      <td>AYWK</td>\n",
       "      <td>-3.583830</td>\n",
       "      <td>143.669006</td>\n",
       "      <td>19</td>\n",
       "      <td>10</td>\n",
       "      <td>U</td>\n",
       "      <td>Pacific/Port_Moresby</td>\n",
       "      <td>airport</td>\n",
       "      <td>OurAirports</td>\n",
       "    </tr>\n",
       "    <tr>\n",
       "      <th>6</th>\n",
       "      <td>7</td>\n",
       "      <td>Narsarsuaq Airport</td>\n",
       "      <td>Narssarssuaq</td>\n",
       "      <td>Greenland</td>\n",
       "      <td>UAK</td>\n",
       "      <td>BGBW</td>\n",
       "      <td>61.160500</td>\n",
       "      <td>-45.425999</td>\n",
       "      <td>112</td>\n",
       "      <td>-3</td>\n",
       "      <td>E</td>\n",
       "      <td>America/Godthab</td>\n",
       "      <td>airport</td>\n",
       "      <td>OurAirports</td>\n",
       "    </tr>\n",
       "    <tr>\n",
       "      <th>7</th>\n",
       "      <td>8</td>\n",
       "      <td>Godthaab / Nuuk Airport</td>\n",
       "      <td>Godthaab</td>\n",
       "      <td>Greenland</td>\n",
       "      <td>GOH</td>\n",
       "      <td>BGGH</td>\n",
       "      <td>64.190903</td>\n",
       "      <td>-51.678101</td>\n",
       "      <td>283</td>\n",
       "      <td>-3</td>\n",
       "      <td>E</td>\n",
       "      <td>America/Godthab</td>\n",
       "      <td>airport</td>\n",
       "      <td>OurAirports</td>\n",
       "    </tr>\n",
       "    <tr>\n",
       "      <th>8</th>\n",
       "      <td>9</td>\n",
       "      <td>Kangerlussuaq Airport</td>\n",
       "      <td>Sondrestrom</td>\n",
       "      <td>Greenland</td>\n",
       "      <td>SFJ</td>\n",
       "      <td>BGSF</td>\n",
       "      <td>67.012222</td>\n",
       "      <td>-50.711603</td>\n",
       "      <td>165</td>\n",
       "      <td>-3</td>\n",
       "      <td>E</td>\n",
       "      <td>America/Godthab</td>\n",
       "      <td>airport</td>\n",
       "      <td>OurAirports</td>\n",
       "    </tr>\n",
       "    <tr>\n",
       "      <th>9</th>\n",
       "      <td>10</td>\n",
       "      <td>Thule Air Base</td>\n",
       "      <td>Thule</td>\n",
       "      <td>Greenland</td>\n",
       "      <td>THU</td>\n",
       "      <td>BGTL</td>\n",
       "      <td>76.531197</td>\n",
       "      <td>-68.703201</td>\n",
       "      <td>251</td>\n",
       "      <td>-4</td>\n",
       "      <td>E</td>\n",
       "      <td>America/Thule</td>\n",
       "      <td>airport</td>\n",
       "      <td>OurAirports</td>\n",
       "    </tr>\n",
       "  </tbody>\n",
       "</table>\n",
       "</div>"
      ],
      "text/plain": [
       "   AirportID                                         Name          City  \\\n",
       "0          1                               Goroka Airport        Goroka   \n",
       "1          2                               Madang Airport        Madang   \n",
       "2          3                 Mount Hagen Kagamuga Airport   Mount Hagen   \n",
       "3          4                               Nadzab Airport        Nadzab   \n",
       "4          5  Port Moresby Jacksons International Airport  Port Moresby   \n",
       "5          6                  Wewak International Airport         Wewak   \n",
       "6          7                           Narsarsuaq Airport  Narssarssuaq   \n",
       "7          8                      Godthaab / Nuuk Airport      Godthaab   \n",
       "8          9                        Kangerlussuaq Airport   Sondrestrom   \n",
       "9         10                               Thule Air Base         Thule   \n",
       "\n",
       "            Country IATA  ICAO   Latitude   Longitude  Altitude Timezone DST  \\\n",
       "0  Papua New Guinea  GKA  AYGA  -6.081690  145.391998      5282       10   U   \n",
       "1  Papua New Guinea  MAG  AYMD  -5.207080  145.789001        20       10   U   \n",
       "2  Papua New Guinea  HGU  AYMH  -5.826790  144.296005      5388       10   U   \n",
       "3  Papua New Guinea  LAE  AYNZ  -6.569803  146.725977       239       10   U   \n",
       "4  Papua New Guinea  POM  AYPY  -9.443380  147.220001       146       10   U   \n",
       "5  Papua New Guinea  WWK  AYWK  -3.583830  143.669006        19       10   U   \n",
       "6         Greenland  UAK  BGBW  61.160500  -45.425999       112       -3   E   \n",
       "7         Greenland  GOH  BGGH  64.190903  -51.678101       283       -3   E   \n",
       "8         Greenland  SFJ  BGSF  67.012222  -50.711603       165       -3   E   \n",
       "9         Greenland  THU  BGTL  76.531197  -68.703201       251       -4   E   \n",
       "\n",
       "                     Tz     Type       Source  \n",
       "0  Pacific/Port_Moresby  airport  OurAirports  \n",
       "1  Pacific/Port_Moresby  airport  OurAirports  \n",
       "2  Pacific/Port_Moresby  airport  OurAirports  \n",
       "3  Pacific/Port_Moresby  airport  OurAirports  \n",
       "4  Pacific/Port_Moresby  airport  OurAirports  \n",
       "5  Pacific/Port_Moresby  airport  OurAirports  \n",
       "6       America/Godthab  airport  OurAirports  \n",
       "7       America/Godthab  airport  OurAirports  \n",
       "8       America/Godthab  airport  OurAirports  \n",
       "9         America/Thule  airport  OurAirports  "
      ]
     },
     "execution_count": 95,
     "metadata": {},
     "output_type": "execute_result"
    }
   ],
   "source": [
    "df.head(10)"
   ]
  },
  {
   "cell_type": "markdown",
   "metadata": {
    "id": "IW2MTF41giMl"
   },
   "source": [
    "* 3 Obtén un resumen estadístico."
   ]
  },
  {
   "cell_type": "code",
   "execution_count": 96,
   "metadata": {},
   "outputs": [
    {
     "data": {
      "text/html": [
       "<div>\n",
       "<style scoped>\n",
       "    .dataframe tbody tr th:only-of-type {\n",
       "        vertical-align: middle;\n",
       "    }\n",
       "\n",
       "    .dataframe tbody tr th {\n",
       "        vertical-align: top;\n",
       "    }\n",
       "\n",
       "    .dataframe thead th {\n",
       "        text-align: right;\n",
       "    }\n",
       "</style>\n",
       "<table border=\"1\" class=\"dataframe\">\n",
       "  <thead>\n",
       "    <tr style=\"text-align: right;\">\n",
       "      <th></th>\n",
       "      <th>AirportID</th>\n",
       "      <th>Latitude</th>\n",
       "      <th>Longitude</th>\n",
       "      <th>Altitude</th>\n",
       "    </tr>\n",
       "  </thead>\n",
       "  <tbody>\n",
       "    <tr>\n",
       "      <th>count</th>\n",
       "      <td>12668.000000</td>\n",
       "      <td>12668.000000</td>\n",
       "      <td>12668.000000</td>\n",
       "      <td>12668.000000</td>\n",
       "    </tr>\n",
       "    <tr>\n",
       "      <th>mean</th>\n",
       "      <td>7311.584465</td>\n",
       "      <td>29.820510</td>\n",
       "      <td>-1.041145</td>\n",
       "      <td>831.871093</td>\n",
       "    </tr>\n",
       "    <tr>\n",
       "      <th>std</th>\n",
       "      <td>4202.520098</td>\n",
       "      <td>26.923942</td>\n",
       "      <td>83.618663</td>\n",
       "      <td>1498.239733</td>\n",
       "    </tr>\n",
       "    <tr>\n",
       "      <th>min</th>\n",
       "      <td>1.000000</td>\n",
       "      <td>-90.000000</td>\n",
       "      <td>-179.876999</td>\n",
       "      <td>-1266.000000</td>\n",
       "    </tr>\n",
       "    <tr>\n",
       "      <th>25%</th>\n",
       "      <td>3349.750000</td>\n",
       "      <td>16.115875</td>\n",
       "      <td>-77.294770</td>\n",
       "      <td>38.000000</td>\n",
       "    </tr>\n",
       "    <tr>\n",
       "      <th>50%</th>\n",
       "      <td>7771.500000</td>\n",
       "      <td>38.341850</td>\n",
       "      <td>6.955411</td>\n",
       "      <td>232.500000</td>\n",
       "    </tr>\n",
       "    <tr>\n",
       "      <th>75%</th>\n",
       "      <td>10943.250000</td>\n",
       "      <td>49.306042</td>\n",
       "      <td>47.835824</td>\n",
       "      <td>883.500000</td>\n",
       "    </tr>\n",
       "    <tr>\n",
       "      <th>max</th>\n",
       "      <td>14111.000000</td>\n",
       "      <td>90.000000</td>\n",
       "      <td>179.951004</td>\n",
       "      <td>14472.000000</td>\n",
       "    </tr>\n",
       "  </tbody>\n",
       "</table>\n",
       "</div>"
      ],
      "text/plain": [
       "          AirportID      Latitude     Longitude      Altitude\n",
       "count  12668.000000  12668.000000  12668.000000  12668.000000\n",
       "mean    7311.584465     29.820510     -1.041145    831.871093\n",
       "std     4202.520098     26.923942     83.618663   1498.239733\n",
       "min        1.000000    -90.000000   -179.876999  -1266.000000\n",
       "25%     3349.750000     16.115875    -77.294770     38.000000\n",
       "50%     7771.500000     38.341850      6.955411    232.500000\n",
       "75%    10943.250000     49.306042     47.835824    883.500000\n",
       "max    14111.000000     90.000000    179.951004  14472.000000"
      ]
     },
     "execution_count": 96,
     "metadata": {},
     "output_type": "execute_result"
    }
   ],
   "source": [
    "df.describe() # solo muestra las numéricas"
   ]
  },
  {
   "cell_type": "code",
   "execution_count": 97,
   "metadata": {},
   "outputs": [
    {
     "name": "stdout",
     "output_type": "stream",
     "text": [
      "<class 'pandas.core.frame.DataFrame'>\n",
      "RangeIndex: 12668 entries, 0 to 12667\n",
      "Data columns (total 14 columns):\n",
      " #   Column     Non-Null Count  Dtype  \n",
      "---  ------     --------------  -----  \n",
      " 0   AirportID  12668 non-null  int64  \n",
      " 1   Name       12668 non-null  object \n",
      " 2   City       12619 non-null  object \n",
      " 3   Country    12668 non-null  object \n",
      " 4   IATA       12668 non-null  object \n",
      " 5   ICAO       12667 non-null  object \n",
      " 6   Latitude   12668 non-null  float64\n",
      " 7   Longitude  12668 non-null  float64\n",
      " 8   Altitude   12668 non-null  int64  \n",
      " 9   Timezone   12668 non-null  object \n",
      " 10  DST        12668 non-null  object \n",
      " 11  Tz         12668 non-null  object \n",
      " 12  Type       12668 non-null  object \n",
      " 13  Source     12668 non-null  object \n",
      "dtypes: float64(2), int64(2), object(10)\n",
      "memory usage: 1.4+ MB\n"
     ]
    }
   ],
   "source": [
    "df.info()"
   ]
  },
  {
   "cell_type": "code",
   "execution_count": 98,
   "metadata": {},
   "outputs": [
    {
     "data": {
      "text/html": [
       "<div>\n",
       "<style scoped>\n",
       "    .dataframe tbody tr th:only-of-type {\n",
       "        vertical-align: middle;\n",
       "    }\n",
       "\n",
       "    .dataframe tbody tr th {\n",
       "        vertical-align: top;\n",
       "    }\n",
       "\n",
       "    .dataframe thead th {\n",
       "        text-align: right;\n",
       "    }\n",
       "</style>\n",
       "<table border=\"1\" class=\"dataframe\">\n",
       "  <thead>\n",
       "    <tr style=\"text-align: right;\">\n",
       "      <th></th>\n",
       "      <th>Name</th>\n",
       "      <th>City</th>\n",
       "      <th>Country</th>\n",
       "      <th>IATA</th>\n",
       "      <th>ICAO</th>\n",
       "      <th>Timezone</th>\n",
       "      <th>DST</th>\n",
       "      <th>Tz</th>\n",
       "      <th>Type</th>\n",
       "      <th>Source</th>\n",
       "    </tr>\n",
       "  </thead>\n",
       "  <tbody>\n",
       "    <tr>\n",
       "      <th>count</th>\n",
       "      <td>12668</td>\n",
       "      <td>12619</td>\n",
       "      <td>12668</td>\n",
       "      <td>12668</td>\n",
       "      <td>12667</td>\n",
       "      <td>12668</td>\n",
       "      <td>12668</td>\n",
       "      <td>12668</td>\n",
       "      <td>12668</td>\n",
       "      <td>12668</td>\n",
       "    </tr>\n",
       "    <tr>\n",
       "      <th>unique</th>\n",
       "      <td>12330</td>\n",
       "      <td>9673</td>\n",
       "      <td>241</td>\n",
       "      <td>6925</td>\n",
       "      <td>8161</td>\n",
       "      <td>42</td>\n",
       "      <td>8</td>\n",
       "      <td>312</td>\n",
       "      <td>5</td>\n",
       "      <td>4</td>\n",
       "    </tr>\n",
       "    <tr>\n",
       "      <th>top</th>\n",
       "      <td>North Sea</td>\n",
       "      <td>New York</td>\n",
       "      <td>United States</td>\n",
       "      <td>\\N</td>\n",
       "      <td>\\N</td>\n",
       "      <td>1</td>\n",
       "      <td>E</td>\n",
       "      <td>\\N</td>\n",
       "      <td>airport</td>\n",
       "      <td>OurAirports</td>\n",
       "    </tr>\n",
       "    <tr>\n",
       "      <th>freq</th>\n",
       "      <td>21</td>\n",
       "      <td>50</td>\n",
       "      <td>2708</td>\n",
       "      <td>5744</td>\n",
       "      <td>4507</td>\n",
       "      <td>2706</td>\n",
       "      <td>3478</td>\n",
       "      <td>4282</td>\n",
       "      <td>8264</td>\n",
       "      <td>7698</td>\n",
       "    </tr>\n",
       "  </tbody>\n",
       "</table>\n",
       "</div>"
      ],
      "text/plain": [
       "             Name      City        Country   IATA   ICAO Timezone    DST  \\\n",
       "count       12668     12619          12668  12668  12667    12668  12668   \n",
       "unique      12330      9673            241   6925   8161       42      8   \n",
       "top     North Sea  New York  United States     \\N     \\N        1      E   \n",
       "freq           21        50           2708   5744   4507     2706   3478   \n",
       "\n",
       "           Tz     Type       Source  \n",
       "count   12668    12668        12668  \n",
       "unique    312        5            4  \n",
       "top        \\N  airport  OurAirports  \n",
       "freq     4282     8264         7698  "
      ]
     },
     "execution_count": 98,
     "metadata": {},
     "output_type": "execute_result"
    }
   ],
   "source": [
    "df.describe(include=\"object\")"
   ]
  },
  {
   "cell_type": "markdown",
   "metadata": {
    "id": "IW2MTF41giMl"
   },
   "source": [
    "* 4 Para este análisis no vamos a emplear las columnas 'AirportID', 'Latitude', 'Longitude' y 'Altitude', elimínalas del dataframe."
   ]
  },
  {
   "cell_type": "code",
   "execution_count": 99,
   "metadata": {},
   "outputs": [
    {
     "data": {
      "text/plain": [
       "Index(['AirportID', 'Name', 'City', 'Country', 'IATA', 'ICAO', 'Latitude',\n",
       "       'Longitude', 'Altitude', 'Timezone', 'DST', 'Tz', 'Type', 'Source'],\n",
       "      dtype='object')"
      ]
     },
     "execution_count": 99,
     "metadata": {},
     "output_type": "execute_result"
    }
   ],
   "source": [
    "df.columns"
   ]
  },
  {
   "cell_type": "code",
   "execution_count": 100,
   "metadata": {},
   "outputs": [
    {
     "data": {
      "text/plain": [
       "Index(['Name', 'City', 'Country', 'IATA', 'ICAO', 'Timezone', 'DST', 'Tz',\n",
       "       'Type', 'Source'],\n",
       "      dtype='object')"
      ]
     },
     "execution_count": 100,
     "metadata": {},
     "output_type": "execute_result"
    }
   ],
   "source": [
    "df.drop(['AirportID', 'Latitude', 'Longitude', 'Altitude'], axis = 1, inplace= True)\n",
    "# inplace = True sirve para que no tenga que guardar los cambios en una nueva variable\n",
    "\n",
    "df.columns"
   ]
  },
  {
   "cell_type": "markdown",
   "metadata": {
    "id": "IW2MTF41giMl"
   },
   "source": [
    "* 5 Vuelve a obtener un resumen estadístico, ¿de qué forma han cambiado los datos?."
   ]
  },
  {
   "cell_type": "code",
   "execution_count": 101,
   "metadata": {},
   "outputs": [
    {
     "data": {
      "text/html": [
       "<div>\n",
       "<style scoped>\n",
       "    .dataframe tbody tr th:only-of-type {\n",
       "        vertical-align: middle;\n",
       "    }\n",
       "\n",
       "    .dataframe tbody tr th {\n",
       "        vertical-align: top;\n",
       "    }\n",
       "\n",
       "    .dataframe thead th {\n",
       "        text-align: right;\n",
       "    }\n",
       "</style>\n",
       "<table border=\"1\" class=\"dataframe\">\n",
       "  <thead>\n",
       "    <tr style=\"text-align: right;\">\n",
       "      <th></th>\n",
       "      <th>Name</th>\n",
       "      <th>City</th>\n",
       "      <th>Country</th>\n",
       "      <th>IATA</th>\n",
       "      <th>ICAO</th>\n",
       "      <th>Timezone</th>\n",
       "      <th>DST</th>\n",
       "      <th>Tz</th>\n",
       "      <th>Type</th>\n",
       "      <th>Source</th>\n",
       "    </tr>\n",
       "  </thead>\n",
       "  <tbody>\n",
       "    <tr>\n",
       "      <th>count</th>\n",
       "      <td>12668</td>\n",
       "      <td>12619</td>\n",
       "      <td>12668</td>\n",
       "      <td>12668</td>\n",
       "      <td>12667</td>\n",
       "      <td>12668</td>\n",
       "      <td>12668</td>\n",
       "      <td>12668</td>\n",
       "      <td>12668</td>\n",
       "      <td>12668</td>\n",
       "    </tr>\n",
       "    <tr>\n",
       "      <th>unique</th>\n",
       "      <td>12330</td>\n",
       "      <td>9673</td>\n",
       "      <td>241</td>\n",
       "      <td>6925</td>\n",
       "      <td>8161</td>\n",
       "      <td>42</td>\n",
       "      <td>8</td>\n",
       "      <td>312</td>\n",
       "      <td>5</td>\n",
       "      <td>4</td>\n",
       "    </tr>\n",
       "    <tr>\n",
       "      <th>top</th>\n",
       "      <td>North Sea</td>\n",
       "      <td>New York</td>\n",
       "      <td>United States</td>\n",
       "      <td>\\N</td>\n",
       "      <td>\\N</td>\n",
       "      <td>1</td>\n",
       "      <td>E</td>\n",
       "      <td>\\N</td>\n",
       "      <td>airport</td>\n",
       "      <td>OurAirports</td>\n",
       "    </tr>\n",
       "    <tr>\n",
       "      <th>freq</th>\n",
       "      <td>21</td>\n",
       "      <td>50</td>\n",
       "      <td>2708</td>\n",
       "      <td>5744</td>\n",
       "      <td>4507</td>\n",
       "      <td>2706</td>\n",
       "      <td>3478</td>\n",
       "      <td>4282</td>\n",
       "      <td>8264</td>\n",
       "      <td>7698</td>\n",
       "    </tr>\n",
       "  </tbody>\n",
       "</table>\n",
       "</div>"
      ],
      "text/plain": [
       "             Name      City        Country   IATA   ICAO Timezone    DST  \\\n",
       "count       12668     12619          12668  12668  12667    12668  12668   \n",
       "unique      12330      9673            241   6925   8161       42      8   \n",
       "top     North Sea  New York  United States     \\N     \\N        1      E   \n",
       "freq           21        50           2708   5744   4507     2706   3478   \n",
       "\n",
       "           Tz     Type       Source  \n",
       "count   12668    12668        12668  \n",
       "unique    312        5            4  \n",
       "top        \\N  airport  OurAirports  \n",
       "freq     4282     8264         7698  "
      ]
     },
     "execution_count": 101,
     "metadata": {},
     "output_type": "execute_result"
    }
   ],
   "source": [
    "df.describe() # ahora no hay numéricas, todas son categóricasºb"
   ]
  },
  {
   "cell_type": "code",
   "execution_count": 102,
   "metadata": {},
   "outputs": [
    {
     "name": "stdout",
     "output_type": "stream",
     "text": [
      "<class 'pandas.core.frame.DataFrame'>\n",
      "RangeIndex: 12668 entries, 0 to 12667\n",
      "Data columns (total 10 columns):\n",
      " #   Column    Non-Null Count  Dtype \n",
      "---  ------    --------------  ----- \n",
      " 0   Name      12668 non-null  object\n",
      " 1   City      12619 non-null  object\n",
      " 2   Country   12668 non-null  object\n",
      " 3   IATA      12668 non-null  object\n",
      " 4   ICAO      12667 non-null  object\n",
      " 5   Timezone  12668 non-null  object\n",
      " 6   DST       12668 non-null  object\n",
      " 7   Tz        12668 non-null  object\n",
      " 8   Type      12668 non-null  object\n",
      " 9   Source    12668 non-null  object\n",
      "dtypes: object(10)\n",
      "memory usage: 989.8+ KB\n"
     ]
    }
   ],
   "source": [
    "df.info()"
   ]
  },
  {
   "cell_type": "markdown",
   "metadata": {
    "id": "IW2MTF41giMl"
   },
   "source": [
    "* 6 Sobre el resumen estadístico anterior parece que en la columna TZ hay un valor raro \\N, revisa la proporción de los mismos con value_counts."
   ]
  },
  {
   "cell_type": "code",
   "execution_count": 105,
   "metadata": {},
   "outputs": [
    {
     "data": {
      "text/plain": [
       "\\N                    4282\n",
       "America/New_York       705\n",
       "America/Chicago        402\n",
       "Europe/Berlin          323\n",
       "America/Anchorage      265\n",
       "                      ... \n",
       "Europe/Kaliningrad       1\n",
       "Africa/Bujumbura         1\n",
       "Africa/Banjul            1\n",
       "Indian/Mayotte           1\n",
       "Europe/Andorra           1\n",
       "Name: Tz, Length: 312, dtype: int64"
      ]
     },
     "execution_count": 105,
     "metadata": {},
     "output_type": "execute_result"
    }
   ],
   "source": [
    "df[\"Tz\"].value_counts()\n",
    "df.Tz.value_counts()"
   ]
  },
  {
   "cell_type": "markdown",
   "metadata": {
    "id": "IW2MTF41giMl"
   },
   "source": [
    "* 7 Vuelve a cargar el dataset de modo que se interpreten correctamente los valores nulos (repite el apartado 4, borra las columnas)."
   ]
  },
  {
   "cell_type": "code",
   "execution_count": 106,
   "metadata": {},
   "outputs": [
    {
     "data": {
      "text/html": [
       "<div>\n",
       "<style scoped>\n",
       "    .dataframe tbody tr th:only-of-type {\n",
       "        vertical-align: middle;\n",
       "    }\n",
       "\n",
       "    .dataframe tbody tr th {\n",
       "        vertical-align: top;\n",
       "    }\n",
       "\n",
       "    .dataframe thead th {\n",
       "        text-align: right;\n",
       "    }\n",
       "</style>\n",
       "<table border=\"1\" class=\"dataframe\">\n",
       "  <thead>\n",
       "    <tr style=\"text-align: right;\">\n",
       "      <th></th>\n",
       "      <th>Timezone</th>\n",
       "    </tr>\n",
       "  </thead>\n",
       "  <tbody>\n",
       "    <tr>\n",
       "      <th>count</th>\n",
       "      <td>12315.000000</td>\n",
       "    </tr>\n",
       "    <tr>\n",
       "      <th>mean</th>\n",
       "      <td>0.273126</td>\n",
       "    </tr>\n",
       "    <tr>\n",
       "      <th>std</th>\n",
       "      <td>5.545574</td>\n",
       "    </tr>\n",
       "    <tr>\n",
       "      <th>min</th>\n",
       "      <td>-12.000000</td>\n",
       "    </tr>\n",
       "    <tr>\n",
       "      <th>25%</th>\n",
       "      <td>-5.000000</td>\n",
       "    </tr>\n",
       "    <tr>\n",
       "      <th>50%</th>\n",
       "      <td>1.000000</td>\n",
       "    </tr>\n",
       "    <tr>\n",
       "      <th>75%</th>\n",
       "      <td>3.000000</td>\n",
       "    </tr>\n",
       "    <tr>\n",
       "      <th>max</th>\n",
       "      <td>13.500000</td>\n",
       "    </tr>\n",
       "  </tbody>\n",
       "</table>\n",
       "</div>"
      ],
      "text/plain": [
       "           Timezone\n",
       "count  12315.000000\n",
       "mean       0.273126\n",
       "std        5.545574\n",
       "min      -12.000000\n",
       "25%       -5.000000\n",
       "50%        1.000000\n",
       "75%        3.000000\n",
       "max       13.500000"
      ]
     },
     "execution_count": 106,
     "metadata": {},
     "output_type": "execute_result"
    }
   ],
   "source": [
    "df = pd.read_csv(\"C:/Users/David/Downloads/airports-extended.csv\", header= None, na_values= \"\\\\N\")\n",
    "df.columns = [\"AirportID\",\"Name\",\"City\",\"Country\",\"IATA\",\"ICAO\",\"Latitude\",\"Longitude\",\"Altitude\",\"Timezone\",\"DST\",\"Tz\",\"Type\",\"Source\"]\n",
    "df.drop(['AirportID', 'Latitude', 'Longitude', 'Altitude'], axis = 1, inplace= True)\n",
    "\n",
    "df.describe()"
   ]
  },
  {
   "cell_type": "code",
   "execution_count": 107,
   "metadata": {},
   "outputs": [
    {
     "name": "stdout",
     "output_type": "stream",
     "text": [
      "<class 'pandas.core.frame.DataFrame'>\n",
      "RangeIndex: 12668 entries, 0 to 12667\n",
      "Data columns (total 10 columns):\n",
      " #   Column    Non-Null Count  Dtype  \n",
      "---  ------    --------------  -----  \n",
      " 0   Name      12668 non-null  object \n",
      " 1   City      12619 non-null  object \n",
      " 2   Country   12668 non-null  object \n",
      " 3   IATA      6924 non-null   object \n",
      " 4   ICAO      8160 non-null   object \n",
      " 5   Timezone  12315 non-null  float64\n",
      " 6   DST       12315 non-null  object \n",
      " 7   Tz        8386 non-null   object \n",
      " 8   Type      11017 non-null  object \n",
      " 9   Source    11017 non-null  object \n",
      "dtypes: float64(1), object(9)\n",
      "memory usage: 989.8+ KB\n"
     ]
    }
   ],
   "source": [
    "df.info()"
   ]
  },
  {
   "cell_type": "markdown",
   "metadata": {},
   "source": [
    "Al reconocer los valores \\N  como nulos, el resto de datos de la columna Timezone me los interpreta como números."
   ]
  },
  {
   "cell_type": "code",
   "execution_count": 108,
   "metadata": {},
   "outputs": [
    {
     "data": {
      "text/plain": [
       "America/New_York      705\n",
       "America/Chicago       402\n",
       "Europe/Berlin         323\n",
       "America/Anchorage     265\n",
       "Europe/Paris          241\n",
       "                     ... \n",
       "Europe/Kaliningrad      1\n",
       "Africa/Bujumbura        1\n",
       "Africa/Banjul           1\n",
       "Indian/Mayotte          1\n",
       "Europe/Andorra          1\n",
       "Name: Tz, Length: 311, dtype: int64"
      ]
     },
     "execution_count": 108,
     "metadata": {},
     "output_type": "execute_result"
    }
   ],
   "source": [
    "df.Tz.value_counts()"
   ]
  },
  {
   "cell_type": "code",
   "execution_count": 109,
   "metadata": {},
   "outputs": [
    {
     "data": {
      "text/html": [
       "<div>\n",
       "<style scoped>\n",
       "    .dataframe tbody tr th:only-of-type {\n",
       "        vertical-align: middle;\n",
       "    }\n",
       "\n",
       "    .dataframe tbody tr th {\n",
       "        vertical-align: top;\n",
       "    }\n",
       "\n",
       "    .dataframe thead th {\n",
       "        text-align: right;\n",
       "    }\n",
       "</style>\n",
       "<table border=\"1\" class=\"dataframe\">\n",
       "  <thead>\n",
       "    <tr style=\"text-align: right;\">\n",
       "      <th></th>\n",
       "      <th>Name</th>\n",
       "      <th>City</th>\n",
       "      <th>Country</th>\n",
       "      <th>IATA</th>\n",
       "      <th>ICAO</th>\n",
       "      <th>DST</th>\n",
       "      <th>Tz</th>\n",
       "      <th>Type</th>\n",
       "      <th>Source</th>\n",
       "    </tr>\n",
       "  </thead>\n",
       "  <tbody>\n",
       "    <tr>\n",
       "      <th>count</th>\n",
       "      <td>12668</td>\n",
       "      <td>12619</td>\n",
       "      <td>12668</td>\n",
       "      <td>6924</td>\n",
       "      <td>8160</td>\n",
       "      <td>12315</td>\n",
       "      <td>8386</td>\n",
       "      <td>11017</td>\n",
       "      <td>11017</td>\n",
       "    </tr>\n",
       "    <tr>\n",
       "      <th>unique</th>\n",
       "      <td>12330</td>\n",
       "      <td>9673</td>\n",
       "      <td>241</td>\n",
       "      <td>6924</td>\n",
       "      <td>8160</td>\n",
       "      <td>7</td>\n",
       "      <td>311</td>\n",
       "      <td>4</td>\n",
       "      <td>3</td>\n",
       "    </tr>\n",
       "    <tr>\n",
       "      <th>top</th>\n",
       "      <td>North Sea</td>\n",
       "      <td>New York</td>\n",
       "      <td>United States</td>\n",
       "      <td>GKA</td>\n",
       "      <td>AYGA</td>\n",
       "      <td>E</td>\n",
       "      <td>America/New_York</td>\n",
       "      <td>airport</td>\n",
       "      <td>OurAirports</td>\n",
       "    </tr>\n",
       "    <tr>\n",
       "      <th>freq</th>\n",
       "      <td>21</td>\n",
       "      <td>50</td>\n",
       "      <td>2708</td>\n",
       "      <td>1</td>\n",
       "      <td>1</td>\n",
       "      <td>3478</td>\n",
       "      <td>705</td>\n",
       "      <td>8264</td>\n",
       "      <td>7698</td>\n",
       "    </tr>\n",
       "  </tbody>\n",
       "</table>\n",
       "</div>"
      ],
      "text/plain": [
       "             Name      City        Country  IATA  ICAO    DST  \\\n",
       "count       12668     12619          12668  6924  8160  12315   \n",
       "unique      12330      9673            241  6924  8160      7   \n",
       "top     North Sea  New York  United States   GKA  AYGA      E   \n",
       "freq           21        50           2708     1     1   3478   \n",
       "\n",
       "                      Tz     Type       Source  \n",
       "count               8386    11017        11017  \n",
       "unique               311        4            3  \n",
       "top     America/New_York  airport  OurAirports  \n",
       "freq                 705     8264         7698  "
      ]
     },
     "execution_count": 109,
     "metadata": {},
     "output_type": "execute_result"
    }
   ],
   "source": [
    "df.describe(include=\"object\")"
   ]
  },
  {
   "cell_type": "markdown",
   "metadata": {
    "id": "IW2MTF41giMl"
   },
   "source": [
    "* 8 Revisa los valores nulos de todo el dataframe."
   ]
  },
  {
   "cell_type": "code",
   "execution_count": 111,
   "metadata": {},
   "outputs": [
    {
     "data": {
      "text/plain": [
       "Name           0\n",
       "City          49\n",
       "Country        0\n",
       "IATA        5744\n",
       "ICAO        4508\n",
       "Timezone     353\n",
       "DST          353\n",
       "Tz          4282\n",
       "Type        1651\n",
       "Source      1651\n",
       "dtype: int64"
      ]
     },
     "execution_count": 111,
     "metadata": {},
     "output_type": "execute_result"
    }
   ],
   "source": [
    "df.isna().sum()"
   ]
  },
  {
   "cell_type": "markdown",
   "metadata": {
    "id": "IW2MTF41giMl"
   },
   "source": [
    "* 9 Sobrescribe los valores nulos de las columnas IATA e ICAO por el valor 'DESCONOCIDO'"
   ]
  },
  {
   "cell_type": "code",
   "execution_count": 112,
   "metadata": {},
   "outputs": [],
   "source": [
    "df.IATA = df.IATA.fillna(\"DESCONOCIDO\")"
   ]
  },
  {
   "cell_type": "code",
   "execution_count": 113,
   "metadata": {},
   "outputs": [
    {
     "data": {
      "text/plain": [
       "DESCONOCIDO    5744\n",
       "GKA               1\n",
       "DGE               1\n",
       "CES               1\n",
       "GUL               1\n",
       "               ... \n",
       "JGA               1\n",
       "JLR               1\n",
       "IDR               1\n",
       "GOI               1\n",
       "CPO               1\n",
       "Name: IATA, Length: 6925, dtype: int64"
      ]
     },
     "execution_count": 113,
     "metadata": {},
     "output_type": "execute_result"
    }
   ],
   "source": [
    "df.IATA.value_counts()"
   ]
  },
  {
   "cell_type": "code",
   "execution_count": 114,
   "metadata": {},
   "outputs": [
    {
     "data": {
      "text/plain": [
       "DESCONOCIDO    4508\n",
       "AYGA              1\n",
       "YTWB              1\n",
       "SDAM              1\n",
       "SULO              1\n",
       "               ... \n",
       "SVLO              1\n",
       "SVLF              1\n",
       "SVJM              1\n",
       "SVJC              1\n",
       "UKDM              1\n",
       "Name: ICAO, Length: 8161, dtype: int64"
      ]
     },
     "execution_count": 114,
     "metadata": {},
     "output_type": "execute_result"
    }
   ],
   "source": [
    "df.ICAO = df.ICAO.fillna(\"DESCONOCIDO\")\n",
    "\n",
    "df.ICAO.value_counts()"
   ]
  },
  {
   "cell_type": "markdown",
   "metadata": {
    "id": "IW2MTF41giMl"
   },
   "source": [
    "* 10 Cambia el tipo de las variables DST y TZ como categórico."
   ]
  },
  {
   "cell_type": "code",
   "execution_count": 115,
   "metadata": {},
   "outputs": [],
   "source": [
    "df.DST = pd.Categorical(df.DST)\n",
    "df.Tz = pd.Categorical(df.Tz)"
   ]
  },
  {
   "cell_type": "code",
   "execution_count": 116,
   "metadata": {},
   "outputs": [
    {
     "name": "stdout",
     "output_type": "stream",
     "text": [
      "<class 'pandas.core.frame.DataFrame'>\n",
      "RangeIndex: 12668 entries, 0 to 12667\n",
      "Data columns (total 10 columns):\n",
      " #   Column    Non-Null Count  Dtype   \n",
      "---  ------    --------------  -----   \n",
      " 0   Name      12668 non-null  object  \n",
      " 1   City      12619 non-null  object  \n",
      " 2   Country   12668 non-null  object  \n",
      " 3   IATA      12668 non-null  object  \n",
      " 4   ICAO      12668 non-null  object  \n",
      " 5   Timezone  12315 non-null  float64 \n",
      " 6   DST       12315 non-null  category\n",
      " 7   Tz        8386 non-null   category\n",
      " 8   Type      11017 non-null  object  \n",
      " 9   Source    11017 non-null  object  \n",
      "dtypes: category(2), float64(1), object(7)\n",
      "memory usage: 839.9+ KB\n"
     ]
    }
   ],
   "source": [
    "df.info()"
   ]
  },
  {
   "cell_type": "markdown",
   "metadata": {
    "id": "IW2MTF41giMl"
   },
   "source": [
    "* 11 Obtén un resumen estadístico de las variables categóricas."
   ]
  },
  {
   "cell_type": "code",
   "execution_count": 117,
   "metadata": {},
   "outputs": [
    {
     "data": {
      "text/html": [
       "<div>\n",
       "<style scoped>\n",
       "    .dataframe tbody tr th:only-of-type {\n",
       "        vertical-align: middle;\n",
       "    }\n",
       "\n",
       "    .dataframe tbody tr th {\n",
       "        vertical-align: top;\n",
       "    }\n",
       "\n",
       "    .dataframe thead th {\n",
       "        text-align: right;\n",
       "    }\n",
       "</style>\n",
       "<table border=\"1\" class=\"dataframe\">\n",
       "  <thead>\n",
       "    <tr style=\"text-align: right;\">\n",
       "      <th></th>\n",
       "      <th>DST</th>\n",
       "      <th>Tz</th>\n",
       "    </tr>\n",
       "  </thead>\n",
       "  <tbody>\n",
       "    <tr>\n",
       "      <th>count</th>\n",
       "      <td>12315</td>\n",
       "      <td>8386</td>\n",
       "    </tr>\n",
       "    <tr>\n",
       "      <th>unique</th>\n",
       "      <td>7</td>\n",
       "      <td>311</td>\n",
       "    </tr>\n",
       "    <tr>\n",
       "      <th>top</th>\n",
       "      <td>E</td>\n",
       "      <td>America/New_York</td>\n",
       "    </tr>\n",
       "    <tr>\n",
       "      <th>freq</th>\n",
       "      <td>3478</td>\n",
       "      <td>705</td>\n",
       "    </tr>\n",
       "  </tbody>\n",
       "</table>\n",
       "</div>"
      ],
      "text/plain": [
       "          DST                Tz\n",
       "count   12315              8386\n",
       "unique      7               311\n",
       "top         E  America/New_York\n",
       "freq     3478               705"
      ]
     },
     "execution_count": 117,
     "metadata": {},
     "output_type": "execute_result"
    }
   ],
   "source": [
    "df.describe(include= \"category\")"
   ]
  },
  {
   "cell_type": "markdown",
   "metadata": {
    "id": "IW2MTF41giMl"
   },
   "source": [
    "* 12 Agrupa el dataframe por el tipo de aeropuerto, mostrando el conteo de los tipos."
   ]
  },
  {
   "cell_type": "code",
   "execution_count": 124,
   "metadata": {},
   "outputs": [
    {
     "data": {
      "text/html": [
       "<div>\n",
       "<style scoped>\n",
       "    .dataframe tbody tr th:only-of-type {\n",
       "        vertical-align: middle;\n",
       "    }\n",
       "\n",
       "    .dataframe tbody tr th {\n",
       "        vertical-align: top;\n",
       "    }\n",
       "\n",
       "    .dataframe thead th {\n",
       "        text-align: right;\n",
       "    }\n",
       "</style>\n",
       "<table border=\"1\" class=\"dataframe\">\n",
       "  <thead>\n",
       "    <tr style=\"text-align: right;\">\n",
       "      <th></th>\n",
       "      <th>Name</th>\n",
       "      <th>City</th>\n",
       "      <th>Country</th>\n",
       "      <th>IATA</th>\n",
       "      <th>ICAO</th>\n",
       "      <th>Timezone</th>\n",
       "      <th>DST</th>\n",
       "      <th>Tz</th>\n",
       "      <th>Source</th>\n",
       "    </tr>\n",
       "    <tr>\n",
       "      <th>Type</th>\n",
       "      <th></th>\n",
       "      <th></th>\n",
       "      <th></th>\n",
       "      <th></th>\n",
       "      <th></th>\n",
       "      <th></th>\n",
       "      <th></th>\n",
       "      <th></th>\n",
       "      <th></th>\n",
       "    </tr>\n",
       "  </thead>\n",
       "  <tbody>\n",
       "    <tr>\n",
       "      <th>airport</th>\n",
       "      <td>8264</td>\n",
       "      <td>8215</td>\n",
       "      <td>8264</td>\n",
       "      <td>8264</td>\n",
       "      <td>8264</td>\n",
       "      <td>7911</td>\n",
       "      <td>7911</td>\n",
       "      <td>7148</td>\n",
       "      <td>8264</td>\n",
       "    </tr>\n",
       "    <tr>\n",
       "      <th>port</th>\n",
       "      <td>101</td>\n",
       "      <td>101</td>\n",
       "      <td>101</td>\n",
       "      <td>101</td>\n",
       "      <td>101</td>\n",
       "      <td>101</td>\n",
       "      <td>101</td>\n",
       "      <td>66</td>\n",
       "      <td>101</td>\n",
       "    </tr>\n",
       "    <tr>\n",
       "      <th>station</th>\n",
       "      <td>1332</td>\n",
       "      <td>1332</td>\n",
       "      <td>1332</td>\n",
       "      <td>1332</td>\n",
       "      <td>1332</td>\n",
       "      <td>1332</td>\n",
       "      <td>1332</td>\n",
       "      <td>414</td>\n",
       "      <td>1332</td>\n",
       "    </tr>\n",
       "    <tr>\n",
       "      <th>unknown</th>\n",
       "      <td>1320</td>\n",
       "      <td>1320</td>\n",
       "      <td>1320</td>\n",
       "      <td>1320</td>\n",
       "      <td>1320</td>\n",
       "      <td>1320</td>\n",
       "      <td>1320</td>\n",
       "      <td>758</td>\n",
       "      <td>1320</td>\n",
       "    </tr>\n",
       "  </tbody>\n",
       "</table>\n",
       "</div>"
      ],
      "text/plain": [
       "         Name  City  Country  IATA  ICAO  Timezone   DST    Tz  Source\n",
       "Type                                                                  \n",
       "airport  8264  8215     8264  8264  8264      7911  7911  7148    8264\n",
       "port      101   101      101   101   101       101   101    66     101\n",
       "station  1332  1332     1332  1332  1332      1332  1332   414    1332\n",
       "unknown  1320  1320     1320  1320  1320      1320  1320   758    1320"
      ]
     },
     "execution_count": 124,
     "metadata": {},
     "output_type": "execute_result"
    }
   ],
   "source": [
    "df.groupby([\"Type\"]).count() # obtenemos lo mismo que con value_counts()\n",
    "# algunas columnas muestran valores diferentes porque contienen valores nulos."
   ]
  },
  {
   "cell_type": "code",
   "execution_count": 126,
   "metadata": {},
   "outputs": [
    {
     "data": {
      "text/plain": [
       "Type\n",
       "airport    8264\n",
       "port        101\n",
       "station    1332\n",
       "unknown    1320\n",
       "Name: Name, dtype: int64"
      ]
     },
     "execution_count": 126,
     "metadata": {},
     "output_type": "execute_result"
    }
   ],
   "source": [
    "# como no tiene sentido mostrar todas las columnas con los mismos valores, \n",
    "# elegimos una que no tenga nulos\n",
    "\n",
    "df.groupby([\"Type\"]).count()[\"Name\"]"
   ]
  },
  {
   "cell_type": "code",
   "execution_count": 125,
   "metadata": {},
   "outputs": [
    {
     "data": {
      "text/plain": [
       "airport    8264\n",
       "station    1332\n",
       "unknown    1320\n",
       "port        101\n",
       "Name: Type, dtype: int64"
      ]
     },
     "execution_count": 125,
     "metadata": {},
     "output_type": "execute_result"
    }
   ],
   "source": [
    "df.Type.value_counts()"
   ]
  },
  {
   "cell_type": "code",
   "execution_count": 118,
   "metadata": {},
   "outputs": [
    {
     "name": "stdout",
     "output_type": "stream",
     "text": [
      "<class 'pandas.core.frame.DataFrame'>\n",
      "RangeIndex: 12668 entries, 0 to 12667\n",
      "Data columns (total 10 columns):\n",
      " #   Column    Non-Null Count  Dtype   \n",
      "---  ------    --------------  -----   \n",
      " 0   Name      12668 non-null  object  \n",
      " 1   City      12619 non-null  object  \n",
      " 2   Country   12668 non-null  object  \n",
      " 3   IATA      12668 non-null  object  \n",
      " 4   ICAO      12668 non-null  object  \n",
      " 5   Timezone  12315 non-null  float64 \n",
      " 6   DST       12315 non-null  category\n",
      " 7   Tz        8386 non-null   category\n",
      " 8   Type      11017 non-null  object  \n",
      " 9   Source    11017 non-null  object  \n",
      "dtypes: category(2), float64(1), object(7)\n",
      "memory usage: 839.9+ KB\n"
     ]
    }
   ],
   "source": [
    "df.info()"
   ]
  },
  {
   "cell_type": "code",
   "execution_count": 122,
   "metadata": {},
   "outputs": [
    {
     "data": {
      "text/html": [
       "<div>\n",
       "<style scoped>\n",
       "    .dataframe tbody tr th:only-of-type {\n",
       "        vertical-align: middle;\n",
       "    }\n",
       "\n",
       "    .dataframe tbody tr th {\n",
       "        vertical-align: top;\n",
       "    }\n",
       "\n",
       "    .dataframe thead th {\n",
       "        text-align: right;\n",
       "    }\n",
       "</style>\n",
       "<table border=\"1\" class=\"dataframe\">\n",
       "  <thead>\n",
       "    <tr style=\"text-align: right;\">\n",
       "      <th></th>\n",
       "      <th>Name</th>\n",
       "      <th>City</th>\n",
       "      <th>Country</th>\n",
       "      <th>IATA</th>\n",
       "      <th>ICAO</th>\n",
       "      <th>Timezone</th>\n",
       "      <th>DST</th>\n",
       "      <th>Tz</th>\n",
       "      <th>Type</th>\n",
       "      <th>Source</th>\n",
       "    </tr>\n",
       "  </thead>\n",
       "  <tbody>\n",
       "    <tr>\n",
       "      <th>0</th>\n",
       "      <td>Goroka Airport</td>\n",
       "      <td>Goroka</td>\n",
       "      <td>Papua New Guinea</td>\n",
       "      <td>GKA</td>\n",
       "      <td>AYGA</td>\n",
       "      <td>10.0</td>\n",
       "      <td>U</td>\n",
       "      <td>Pacific/Port_Moresby</td>\n",
       "      <td>airport</td>\n",
       "      <td>OurAirports</td>\n",
       "    </tr>\n",
       "    <tr>\n",
       "      <th>1</th>\n",
       "      <td>Madang Airport</td>\n",
       "      <td>Madang</td>\n",
       "      <td>Papua New Guinea</td>\n",
       "      <td>MAG</td>\n",
       "      <td>AYMD</td>\n",
       "      <td>10.0</td>\n",
       "      <td>U</td>\n",
       "      <td>Pacific/Port_Moresby</td>\n",
       "      <td>airport</td>\n",
       "      <td>OurAirports</td>\n",
       "    </tr>\n",
       "    <tr>\n",
       "      <th>2</th>\n",
       "      <td>Mount Hagen Kagamuga Airport</td>\n",
       "      <td>Mount Hagen</td>\n",
       "      <td>Papua New Guinea</td>\n",
       "      <td>HGU</td>\n",
       "      <td>AYMH</td>\n",
       "      <td>10.0</td>\n",
       "      <td>U</td>\n",
       "      <td>Pacific/Port_Moresby</td>\n",
       "      <td>airport</td>\n",
       "      <td>OurAirports</td>\n",
       "    </tr>\n",
       "  </tbody>\n",
       "</table>\n",
       "</div>"
      ],
      "text/plain": [
       "                           Name         City           Country IATA  ICAO  \\\n",
       "0                Goroka Airport       Goroka  Papua New Guinea  GKA  AYGA   \n",
       "1                Madang Airport       Madang  Papua New Guinea  MAG  AYMD   \n",
       "2  Mount Hagen Kagamuga Airport  Mount Hagen  Papua New Guinea  HGU  AYMH   \n",
       "\n",
       "   Timezone DST                    Tz     Type       Source  \n",
       "0      10.0   U  Pacific/Port_Moresby  airport  OurAirports  \n",
       "1      10.0   U  Pacific/Port_Moresby  airport  OurAirports  \n",
       "2      10.0   U  Pacific/Port_Moresby  airport  OurAirports  "
      ]
     },
     "execution_count": 122,
     "metadata": {},
     "output_type": "execute_result"
    }
   ],
   "source": [
    "df[:3]"
   ]
  },
  {
   "cell_type": "markdown",
   "metadata": {
    "id": "IW2MTF41giMl"
   },
   "source": [
    "* 13 Selecciona el nombre de las ciudades cuyo tipo de aeropuerto sea \"port\" "
   ]
  },
  {
   "cell_type": "code",
   "execution_count": 132,
   "metadata": {},
   "outputs": [
    {
     "data": {
      "text/html": [
       "<div>\n",
       "<style scoped>\n",
       "    .dataframe tbody tr th:only-of-type {\n",
       "        vertical-align: middle;\n",
       "    }\n",
       "\n",
       "    .dataframe tbody tr th {\n",
       "        vertical-align: top;\n",
       "    }\n",
       "\n",
       "    .dataframe thead th {\n",
       "        text-align: right;\n",
       "    }\n",
       "</style>\n",
       "<table border=\"1\" class=\"dataframe\">\n",
       "  <thead>\n",
       "    <tr style=\"text-align: right;\">\n",
       "      <th></th>\n",
       "      <th>City</th>\n",
       "      <th>Type</th>\n",
       "    </tr>\n",
       "  </thead>\n",
       "  <tbody>\n",
       "    <tr>\n",
       "      <th>6074</th>\n",
       "      <td>Macau</td>\n",
       "      <td>port</td>\n",
       "    </tr>\n",
       "    <tr>\n",
       "      <th>6438</th>\n",
       "      <td>Stockholm</td>\n",
       "      <td>port</td>\n",
       "    </tr>\n",
       "    <tr>\n",
       "      <th>6439</th>\n",
       "      <td>Helsingborg</td>\n",
       "      <td>port</td>\n",
       "    </tr>\n",
       "    <tr>\n",
       "      <th>6444</th>\n",
       "      <td>Helsinki</td>\n",
       "      <td>port</td>\n",
       "    </tr>\n",
       "    <tr>\n",
       "      <th>6565</th>\n",
       "      <td>Sakaiminato</td>\n",
       "      <td>port</td>\n",
       "    </tr>\n",
       "  </tbody>\n",
       "</table>\n",
       "</div>"
      ],
      "text/plain": [
       "             City  Type\n",
       "6074        Macau  port\n",
       "6438    Stockholm  port\n",
       "6439  Helsingborg  port\n",
       "6444     Helsinki  port\n",
       "6565  Sakaiminato  port"
      ]
     },
     "execution_count": 132,
     "metadata": {},
     "output_type": "execute_result"
    }
   ],
   "source": [
    "df[(df[\"Type\"] == \"port\")][[\"City\", \"Type\"]][:5]\n",
    "# si indexamos varias columnas, tenemos que seleccionarlas usando una lista, \n",
    "# sino, con un corchete sería suficiente"
   ]
  },
  {
   "cell_type": "markdown",
   "metadata": {
    "id": "IW2MTF41giMl"
   },
   "source": [
    "* 14 Muestra todas las filas de los campos nombre del aeropuerto, nombre del país y, nombre de la ciudad, cuyo país sea Spain."
   ]
  },
  {
   "cell_type": "code",
   "execution_count": 134,
   "metadata": {},
   "outputs": [
    {
     "data": {
      "text/html": [
       "<div>\n",
       "<style scoped>\n",
       "    .dataframe tbody tr th:only-of-type {\n",
       "        vertical-align: middle;\n",
       "    }\n",
       "\n",
       "    .dataframe tbody tr th {\n",
       "        vertical-align: top;\n",
       "    }\n",
       "\n",
       "    .dataframe thead th {\n",
       "        text-align: right;\n",
       "    }\n",
       "</style>\n",
       "<table border=\"1\" class=\"dataframe\">\n",
       "  <thead>\n",
       "    <tr style=\"text-align: right;\">\n",
       "      <th></th>\n",
       "      <th>Name</th>\n",
       "      <th>Country</th>\n",
       "      <th>City</th>\n",
       "    </tr>\n",
       "  </thead>\n",
       "  <tbody>\n",
       "    <tr>\n",
       "      <th>1030</th>\n",
       "      <td>Fuerteventura Airport</td>\n",
       "      <td>Spain</td>\n",
       "      <td>Fuerteventura</td>\n",
       "    </tr>\n",
       "    <tr>\n",
       "      <th>1031</th>\n",
       "      <td>Hierro Airport</td>\n",
       "      <td>Spain</td>\n",
       "      <td>Hierro</td>\n",
       "    </tr>\n",
       "    <tr>\n",
       "      <th>1032</th>\n",
       "      <td>La Palma Airport</td>\n",
       "      <td>Spain</td>\n",
       "      <td>Santa Cruz De La Palma</td>\n",
       "    </tr>\n",
       "    <tr>\n",
       "      <th>1033</th>\n",
       "      <td>Gran Canaria Airport</td>\n",
       "      <td>Spain</td>\n",
       "      <td>Gran Canaria</td>\n",
       "    </tr>\n",
       "    <tr>\n",
       "      <th>1034</th>\n",
       "      <td>Lanzarote Airport</td>\n",
       "      <td>Spain</td>\n",
       "      <td>Arrecife</td>\n",
       "    </tr>\n",
       "    <tr>\n",
       "      <th>...</th>\n",
       "      <td>...</td>\n",
       "      <td>...</td>\n",
       "      <td>...</td>\n",
       "    </tr>\n",
       "    <tr>\n",
       "      <th>11437</th>\n",
       "      <td>Madrid Estacion Sur</td>\n",
       "      <td>Spain</td>\n",
       "      <td>Madrid</td>\n",
       "    </tr>\n",
       "    <tr>\n",
       "      <th>11438</th>\n",
       "      <td>Granada Bus Station</td>\n",
       "      <td>Spain</td>\n",
       "      <td>Granada</td>\n",
       "    </tr>\n",
       "    <tr>\n",
       "      <th>11879</th>\n",
       "      <td>Palma de Mallorca Cruise Terminal</td>\n",
       "      <td>Spain</td>\n",
       "      <td>Palma de Mallorca</td>\n",
       "    </tr>\n",
       "    <tr>\n",
       "      <th>12234</th>\n",
       "      <td>Algeciras Heliport</td>\n",
       "      <td>Spain</td>\n",
       "      <td>Algeciras</td>\n",
       "    </tr>\n",
       "    <tr>\n",
       "      <th>12386</th>\n",
       "      <td>Región de Murcia International Airport</td>\n",
       "      <td>Spain</td>\n",
       "      <td>Murcia</td>\n",
       "    </tr>\n",
       "  </tbody>\n",
       "</table>\n",
       "<p>145 rows × 3 columns</p>\n",
       "</div>"
      ],
      "text/plain": [
       "                                         Name Country                    City\n",
       "1030                    Fuerteventura Airport   Spain           Fuerteventura\n",
       "1031                           Hierro Airport   Spain                  Hierro\n",
       "1032                         La Palma Airport   Spain  Santa Cruz De La Palma\n",
       "1033                     Gran Canaria Airport   Spain            Gran Canaria\n",
       "1034                        Lanzarote Airport   Spain                Arrecife\n",
       "...                                       ...     ...                     ...\n",
       "11437                     Madrid Estacion Sur   Spain                  Madrid\n",
       "11438                     Granada Bus Station   Spain                 Granada\n",
       "11879       Palma de Mallorca Cruise Terminal   Spain       Palma de Mallorca\n",
       "12234                      Algeciras Heliport   Spain               Algeciras\n",
       "12386  Región de Murcia International Airport   Spain                  Murcia\n",
       "\n",
       "[145 rows x 3 columns]"
      ]
     },
     "execution_count": 134,
     "metadata": {},
     "output_type": "execute_result"
    }
   ],
   "source": [
    "df[(df[\"Country\"] == \"Spain\")][[\"Name\", \"Country\", \"City\"]]"
   ]
  },
  {
   "cell_type": "markdown",
   "metadata": {
    "id": "IW2MTF41giMl"
   },
   "source": [
    "* 15 Muestra el nombre del país y del aeropuerto que sean pertenecientes de la ciudad de Madrid y Barcelona. ¿Todos los registros son de España?"
   ]
  },
  {
   "cell_type": "code",
   "execution_count": 144,
   "metadata": {},
   "outputs": [
    {
     "data": {
      "text/html": [
       "<div>\n",
       "<style scoped>\n",
       "    .dataframe tbody tr th:only-of-type {\n",
       "        vertical-align: middle;\n",
       "    }\n",
       "\n",
       "    .dataframe tbody tr th {\n",
       "        vertical-align: top;\n",
       "    }\n",
       "\n",
       "    .dataframe thead th {\n",
       "        text-align: right;\n",
       "    }\n",
       "</style>\n",
       "<table border=\"1\" class=\"dataframe\">\n",
       "  <thead>\n",
       "    <tr style=\"text-align: right;\">\n",
       "      <th></th>\n",
       "      <th>Country</th>\n",
       "      <th>Name</th>\n",
       "      <th>City</th>\n",
       "      <th>Type</th>\n",
       "    </tr>\n",
       "  </thead>\n",
       "  <tbody>\n",
       "    <tr>\n",
       "      <th>1188</th>\n",
       "      <td>Spain</td>\n",
       "      <td>Barcelona International Airport</td>\n",
       "      <td>Barcelona</td>\n",
       "      <td>airport</td>\n",
       "    </tr>\n",
       "    <tr>\n",
       "      <th>1194</th>\n",
       "      <td>Spain</td>\n",
       "      <td>Getafe Air Base</td>\n",
       "      <td>Madrid</td>\n",
       "      <td>airport</td>\n",
       "    </tr>\n",
       "    <tr>\n",
       "      <th>1198</th>\n",
       "      <td>Spain</td>\n",
       "      <td>Adolfo Suárez Madrid–Barajas Airport</td>\n",
       "      <td>Madrid</td>\n",
       "      <td>airport</td>\n",
       "    </tr>\n",
       "    <tr>\n",
       "      <th>1214</th>\n",
       "      <td>Spain</td>\n",
       "      <td>Torrejón Airport</td>\n",
       "      <td>Madrid</td>\n",
       "      <td>airport</td>\n",
       "    </tr>\n",
       "    <tr>\n",
       "      <th>1217</th>\n",
       "      <td>Spain</td>\n",
       "      <td>Cuatro Vientos</td>\n",
       "      <td>Madrid</td>\n",
       "      <td>unknown</td>\n",
       "    </tr>\n",
       "    <tr>\n",
       "      <th>2690</th>\n",
       "      <td>Venezuela</td>\n",
       "      <td>General José Antonio Anzoategui International ...</td>\n",
       "      <td>Barcelona</td>\n",
       "      <td>airport</td>\n",
       "    </tr>\n",
       "    <tr>\n",
       "      <th>6302</th>\n",
       "      <td>Spain</td>\n",
       "      <td>Barcelona Cruise Terminal</td>\n",
       "      <td>Barcelona</td>\n",
       "      <td>unknown</td>\n",
       "    </tr>\n",
       "    <tr>\n",
       "      <th>8046</th>\n",
       "      <td>Spain</td>\n",
       "      <td>Atocha</td>\n",
       "      <td>Madrid</td>\n",
       "      <td>unknown</td>\n",
       "    </tr>\n",
       "    <tr>\n",
       "      <th>8053</th>\n",
       "      <td>Spain</td>\n",
       "      <td>Chamartin Station</td>\n",
       "      <td>Madrid</td>\n",
       "      <td>station</td>\n",
       "    </tr>\n",
       "    <tr>\n",
       "      <th>8055</th>\n",
       "      <td>Spain</td>\n",
       "      <td>Aeroport</td>\n",
       "      <td>Barcelona</td>\n",
       "      <td>unknown</td>\n",
       "    </tr>\n",
       "    <tr>\n",
       "      <th>8056</th>\n",
       "      <td>Spain</td>\n",
       "      <td>Passeig de Gracia</td>\n",
       "      <td>Barcelona</td>\n",
       "      <td>unknown</td>\n",
       "    </tr>\n",
       "    <tr>\n",
       "      <th>8057</th>\n",
       "      <td>Spain</td>\n",
       "      <td>Sants</td>\n",
       "      <td>Barcelona</td>\n",
       "      <td>unknown</td>\n",
       "    </tr>\n",
       "    <tr>\n",
       "      <th>8846</th>\n",
       "      <td>Spain</td>\n",
       "      <td>Barajas Station</td>\n",
       "      <td>Madrid</td>\n",
       "      <td>station</td>\n",
       "    </tr>\n",
       "    <tr>\n",
       "      <th>9156</th>\n",
       "      <td>Spain</td>\n",
       "      <td>Aeropuerto T4 Madrid Metro</td>\n",
       "      <td>Madrid</td>\n",
       "      <td>unknown</td>\n",
       "    </tr>\n",
       "    <tr>\n",
       "      <th>10033</th>\n",
       "      <td>Spain</td>\n",
       "      <td>Estacio de Franca</td>\n",
       "      <td>Barcelona</td>\n",
       "      <td>unknown</td>\n",
       "    </tr>\n",
       "    <tr>\n",
       "      <th>10264</th>\n",
       "      <td>Spain</td>\n",
       "      <td>Placa d Espanya Station</td>\n",
       "      <td>Barcelona</td>\n",
       "      <td>station</td>\n",
       "    </tr>\n",
       "    <tr>\n",
       "      <th>10435</th>\n",
       "      <td>Spain</td>\n",
       "      <td>Cuatro Vientos Airport</td>\n",
       "      <td>Madrid</td>\n",
       "      <td>airport</td>\n",
       "    </tr>\n",
       "    <tr>\n",
       "      <th>11435</th>\n",
       "      <td>Spain</td>\n",
       "      <td>Barcelona-Sants</td>\n",
       "      <td>Barcelona</td>\n",
       "      <td>NaN</td>\n",
       "    </tr>\n",
       "    <tr>\n",
       "      <th>11437</th>\n",
       "      <td>Spain</td>\n",
       "      <td>Madrid Estacion Sur</td>\n",
       "      <td>Madrid</td>\n",
       "      <td>NaN</td>\n",
       "    </tr>\n",
       "  </tbody>\n",
       "</table>\n",
       "</div>"
      ],
      "text/plain": [
       "         Country                                               Name  \\\n",
       "1188       Spain                    Barcelona International Airport   \n",
       "1194       Spain                                    Getafe Air Base   \n",
       "1198       Spain               Adolfo Suárez Madrid–Barajas Airport   \n",
       "1214       Spain                                   Torrejón Airport   \n",
       "1217       Spain                                     Cuatro Vientos   \n",
       "2690   Venezuela  General José Antonio Anzoategui International ...   \n",
       "6302       Spain                          Barcelona Cruise Terminal   \n",
       "8046       Spain                                             Atocha   \n",
       "8053       Spain                                  Chamartin Station   \n",
       "8055       Spain                                           Aeroport   \n",
       "8056       Spain                                  Passeig de Gracia   \n",
       "8057       Spain                                              Sants   \n",
       "8846       Spain                                    Barajas Station   \n",
       "9156       Spain                         Aeropuerto T4 Madrid Metro   \n",
       "10033      Spain                                  Estacio de Franca   \n",
       "10264      Spain                            Placa d Espanya Station   \n",
       "10435      Spain                             Cuatro Vientos Airport   \n",
       "11435      Spain                                    Barcelona-Sants   \n",
       "11437      Spain                                Madrid Estacion Sur   \n",
       "\n",
       "            City     Type  \n",
       "1188   Barcelona  airport  \n",
       "1194      Madrid  airport  \n",
       "1198      Madrid  airport  \n",
       "1214      Madrid  airport  \n",
       "1217      Madrid  unknown  \n",
       "2690   Barcelona  airport  \n",
       "6302   Barcelona  unknown  \n",
       "8046      Madrid  unknown  \n",
       "8053      Madrid  station  \n",
       "8055   Barcelona  unknown  \n",
       "8056   Barcelona  unknown  \n",
       "8057   Barcelona  unknown  \n",
       "8846      Madrid  station  \n",
       "9156      Madrid  unknown  \n",
       "10033  Barcelona  unknown  \n",
       "10264  Barcelona  station  \n",
       "10435     Madrid  airport  \n",
       "11435  Barcelona      NaN  \n",
       "11437     Madrid      NaN  "
      ]
     },
     "execution_count": 144,
     "metadata": {},
     "output_type": "execute_result"
    }
   ],
   "source": [
    "# no nos sirve la condición or para filtrar, debemos usar el operador | \n",
    "\n",
    "df[(df.City == \"Madrid\") | (df.City ==\"Barcelona\")][[\"Country\", \"Name\", \"City\", \"Type\"]]"
   ]
  },
  {
   "cell_type": "markdown",
   "metadata": {
    "id": "IW2MTF41giMl"
   },
   "source": [
    "* 16 Guarda los resultados anteriores en un csv llamado Madrid_Barcelona.csv"
   ]
  },
  {
   "cell_type": "code",
   "execution_count": 145,
   "metadata": {},
   "outputs": [],
   "source": [
    "results = df[(df.City == \"Madrid\") | (df.City ==\"Barcelona\")][[\"Country\", \"Name\", \"City\", \"Type\"]]"
   ]
  },
  {
   "cell_type": "code",
   "execution_count": 146,
   "metadata": {},
   "outputs": [],
   "source": [
    "results.to_csv(\"C:/Users/David/Downloads/Madrid_Barcelona.csv\")"
   ]
  }
 ],
 "metadata": {
  "colab": {
   "name": "Ejercicios_Python_DataS.ipynb",
   "provenance": []
  },
  "kernelspec": {
   "display_name": "Python 3",
   "language": "python",
   "name": "python3"
  },
  "language_info": {
   "codemirror_mode": {
    "name": "ipython",
    "version": 3
   },
   "file_extension": ".py",
   "mimetype": "text/x-python",
   "name": "python",
   "nbconvert_exporter": "python",
   "pygments_lexer": "ipython3",
   "version": "3.7.7"
  }
 },
 "nbformat": 4,
 "nbformat_minor": 1
}
